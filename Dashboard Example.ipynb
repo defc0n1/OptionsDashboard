{
 "cells": [
  {
   "cell_type": "code",
   "execution_count": null,
   "metadata": {
    "collapsed": false
   },
   "outputs": [],
   "source": [
    "#Code to hide cells if needed\n",
    "%%html\n",
    "<style>\n",
    "div.input {\n",
    "    display:none;\n",
    "}\n",
    "</style>"
   ]
  },
  {
   "cell_type": "code",
   "execution_count": null,
   "metadata": {
    "collapsed": false
   },
   "outputs": [],
   "source": [
    "#%matplotlib notebook\n",
    "#%pylab inline\n",
    "import pandas as pd\n",
    "import matplotlib.pyplot as plt\n",
    "from ipywidgets import *\n",
    "from IPython.display import display\n",
    "#from IPython.html import widgets\n",
    "import datetime\n",
    "import pandas.io.data as web\n",
    "from IPython.display import clear_output\n",
    "plt.style.use('ggplot')\n",
    "%matplotlib notebook"
   ]
  },
  {
   "cell_type": "code",
   "execution_count": null,
   "metadata": {
    "collapsed": true
   },
   "outputs": [],
   "source": [
    "#ENTER DATABASE SOURCE HERE AS DF\n",
    "\n",
    "df = pd.ExcelFile('C:/users/******/documents/studies/BflyDBMacro2.xlsm', sheet = 'Data2')\n",
    "df2 = df.parse('Data2')"
   ]
  },
  {
   "cell_type": "code",
   "execution_count": null,
   "metadata": {
    "collapsed": false
   },
   "outputs": [],
   "source": [
    "#Plotly Settings - Enter Plotly Login information. If None there is also code to use Pandas plotting capabilities below\n",
    "import plotly\n",
    "plotly.tools.set_credentials_file(username='*****', api_key='*****')\n",
    "import plotly.plotly as py\n",
    "from plotly.tools import FigureFactory as FF\n",
    "from datetime import datetime\n",
    "import cufflinks as cf\n",
    "from plotly.offline import download_plotlyjs, init_notebook_mode, iplot\n",
    "\n",
    "plotly.offline.init_notebook_mode() "
   ]
  },
  {
   "cell_type": "code",
   "execution_count": null,
   "metadata": {
    "collapsed": false
   },
   "outputs": [],
   "source": [
    "#Build Dashboard GUI\n",
    "exp1 = widgets.Text(description = \"Expiration YYYYMMDD\", width = 100)\n",
    "text1 = widgets.Text(description = \"Strike1\", width = 100)\n",
    "text2 = widgets.Text(description = \"Strike2\", width = 100)\n",
    "text3 = widgets.Text(description = \"Strike3\", width = 100)\n",
    "display(exp1)\n",
    "display(text1,text2,text3)\n",
    "button = widgets.Button(description='Plot Butterfly')\n",
    "display(button)\n",
    "\n",
    "\n",
    "def on_button_clicked(b):\n",
    "    clear_output()\n",
    "    \n",
    "    #Existing DB has prices as strings and need to be converted to numeric\n",
    "    df2['MarkP'] = pd.to_numeric(df2['MarkP'], errors='coerce')\n",
    "    df2['Strike'] = pd.to_numeric(df2['Strike'], errors='coerce')\n",
    "    \n",
    "    #Pandas Pivot Table feature to organize the data. \n",
    "    table = pd.pivot_table(df2, index=[\"Strike\", \"Exp\"],values=\"MarkP\", \n",
    "                          columns='Date')\n",
    "    #Save user input as variables\n",
    "    str1 = int(text1.value)\n",
    "    str2 = int(text2.value)\n",
    "    str3 = int(text3.value)\n",
    "    expiry = str(exp1.value)\n",
    "    expiry = datetime.strptime(expiry,'%Y%m%d').strftime('%Y-%m-%d')\n",
    "    \n",
    "    #Query Pivot Table for selected expiry and dates\n",
    "    table2 = table.query('Exp==@expiry')\n",
    "    strike1 = table2.query('Strike==@str1').transpose().dropna()\n",
    "    strike2 = table2.query('Strike==@str2').transpose().dropna()\n",
    "    strike3 = table2.query('Strike==@str3').transpose().dropna()\n",
    "\n",
    "    #Calculate butterfly prices. \n",
    "    bfly = pd.concat([strike1,strike2,strike3], axis=1)\n",
    "    bfly = bfly.dropna()\n",
    "    bfly2 = bfly[str1]+bfly[str3]-2*bfly[str2]\n",
    "    bfly2.index = pd.to_datetime(bfly2.index, format=\"%Y%m%d\")\n",
    "    \n",
    "    #Download SPX data with similar dates\n",
    "    start = bfly2.index[1]\n",
    "    end = bfly2.index[len(bfly2.index)-1]\n",
    "    spx = web.DataReader(\"^GSPC\",'yahoo',start, end)\n",
    "    spx = spx.rename(columns = {'Adj Close':'SPX'})\n",
    "\n",
    "    print(\"Butterfly: \", str1,\"/\",str2,\"/\",str3)\n",
    "    \n",
    "    #Plotly Charts\n",
    "    bfly2.rename(columns={expiry:'Butterfly'},inplace=True)\n",
    "    fig = FF.create_candlestick(spx.Open, spx.High, spx.Low, spx.Close, dates=spx.index, name = 'SPX')\n",
    "    fig2 = bfly2.iplot(secondary_y = ['Butterfly'], asFigure=True)\n",
    "    fig2['data'].extend(fig['data']) \n",
    "    iplot(fig2)\n",
    "\n",
    "    \n",
    "    #Pandas Plots if Needed\n",
    "    #pylab.rcParams['figure.figsize'] = (20, 6)\n",
    "    #bfly2.plot()\n",
    "    #spx['SPX'].plot(secondary_y=True, legend=True)\n",
    "    #plt.show()   \n",
    "\n",
    "button.on_click(on_button_clicked)\n",
    "\n"
   ]
  }
 ],
 "metadata": {
  "anaconda-cloud": {},
  "kernelspec": {
   "display_name": "Python [Root]",
   "language": "python",
   "name": "Python [Root]"
  },
  "language_info": {
   "codemirror_mode": {
    "name": "ipython",
    "version": 3
   },
   "file_extension": ".py",
   "mimetype": "text/x-python",
   "name": "python",
   "nbconvert_exporter": "python",
   "pygments_lexer": "ipython3",
   "version": "3.5.1"
  }
 },
 "nbformat": 4,
 "nbformat_minor": 0
}
